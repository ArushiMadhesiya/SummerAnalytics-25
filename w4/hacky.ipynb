{
 "cells": [
  {
   "cell_type": "code",
   "execution_count": null,
   "id": "370d3d8b",
   "metadata": {},
   "outputs": [],
   "source": [
    "import numpy as np\n",
    "import pandas as pd"
   ]
  },
  {
   "cell_type": "code",
   "execution_count": 14,
   "id": "913a8b3e",
   "metadata": {},
   "outputs": [],
   "source": [
    "import seaborn as sns"
   ]
  },
  {
   "cell_type": "code",
   "execution_count": 25,
   "id": "3e1c47f0",
   "metadata": {},
   "outputs": [],
   "source": [
    "traindf=pd.read_csv('Train_Data.csv')"
   ]
  },
  {
   "cell_type": "code",
   "execution_count": 6,
   "id": "c664ea3f",
   "metadata": {},
   "outputs": [],
   "source": [
    "sample=pd.read_csv('Sample_Submission.csv')"
   ]
  },
  {
   "cell_type": "code",
   "execution_count": 17,
   "id": "bedb0d8f",
   "metadata": {},
   "outputs": [],
   "source": [
    "test=pd.read_csv('Test_Data.csv')"
   ]
  },
  {
   "cell_type": "code",
   "execution_count": 19,
   "id": "12311f83",
   "metadata": {},
   "outputs": [
    {
     "data": {
      "text/plain": [
       "SEQN        2\n",
       "RIAGENDR    2\n",
       "PAQ605      1\n",
       "BMXBMI      1\n",
       "LBXGLU      1\n",
       "DIQ010      1\n",
       "LBXGLT      2\n",
       "LBXIN       1\n",
       "dtype: int64"
      ]
     },
     "execution_count": 19,
     "metadata": {},
     "output_type": "execute_result"
    }
   ],
   "source": [
    "test.isnull().sum()"
   ]
  },
  {
   "cell_type": "code",
   "execution_count": 9,
   "id": "4dc89a8e",
   "metadata": {},
   "outputs": [
    {
     "data": {
      "text/plain": [
       "<bound method NDFrame.describe of 0      0\n",
       "1      0\n",
       "2      0\n",
       "3      0\n",
       "4      0\n",
       "      ..\n",
       "307    1\n",
       "308    1\n",
       "309    1\n",
       "310    1\n",
       "311    1\n",
       "Name: age_group, Length: 312, dtype: int64>"
      ]
     },
     "execution_count": 9,
     "metadata": {},
     "output_type": "execute_result"
    }
   ],
   "source": [
    "sample['age_group'].describe"
   ]
  },
  {
   "cell_type": "code",
   "execution_count": 5,
   "id": "3d01c377",
   "metadata": {},
   "outputs": [
    {
     "data": {
      "text/plain": [
       "<bound method NDFrame.describe of          SEQN  RIAGENDR  PAQ605  BMXBMI  LBXGLU  DIQ010  LBXGLT  LBXIN  \\\n",
       "0     73564.0       2.0     2.0    35.7   110.0     2.0   150.0  14.91   \n",
       "1     73568.0       2.0     2.0    20.3    89.0     2.0    80.0   3.85   \n",
       "2     73576.0       1.0     2.0    23.2    89.0     2.0    68.0   6.14   \n",
       "3     73577.0       1.0     2.0    28.9   104.0     NaN    84.0  16.15   \n",
       "4     73580.0       2.0     1.0    35.9   103.0     2.0    81.0  10.92   \n",
       "...       ...       ...     ...     ...     ...     ...     ...    ...   \n",
       "1961  83711.0       2.0     2.0    33.5   100.0     2.0    73.0   6.53   \n",
       "1962  83712.0       1.0     2.0    30.0    93.0     2.0   208.0  13.02   \n",
       "1963  83713.0       1.0     2.0    23.7   103.0     2.0   124.0  21.41   \n",
       "1964  83718.0       2.0     2.0    27.4    90.0     2.0   108.0   4.99   \n",
       "1965  83727.0       1.0     2.0    24.5     NaN     2.0   108.0   3.76   \n",
       "\n",
       "     age_group  \n",
       "0        Adult  \n",
       "1        Adult  \n",
       "2        Adult  \n",
       "3        Adult  \n",
       "4        Adult  \n",
       "...        ...  \n",
       "1961     Adult  \n",
       "1962     Adult  \n",
       "1963     Adult  \n",
       "1964     Adult  \n",
       "1965     Adult  \n",
       "\n",
       "[1966 rows x 9 columns]>"
      ]
     },
     "execution_count": 5,
     "metadata": {},
     "output_type": "execute_result"
    }
   ],
   "source": [
    "traindf.describe"
   ]
  },
  {
   "cell_type": "markdown",
   "id": "1332fecf",
   "metadata": {},
   "source": [
    "feature eng\n"
   ]
  },
  {
   "cell_type": "code",
   "execution_count": 15,
   "id": "d7afcfc0",
   "metadata": {},
   "outputs": [
    {
     "data": {
      "text/plain": [
       "<Axes: >"
      ]
     },
     "execution_count": 15,
     "metadata": {},
     "output_type": "execute_result"
    },
    {
     "data": {
      "image/png": "[encoded data removed]",
      "text/plain": [
       "<Figure size 640x480 with 1 Axes>"
      ]
     },
     "metadata": {},
     "output_type": "display_data"
    }
   ],
   "source": [
    "sns.heatmap(traindf.isnull(), cmap='viridis', cbar=False, yticklabels=False)"
   ]
  },
  {
   "cell_type": "code",
   "execution_count": 16,
   "id": "0ea63031",
   "metadata": {},
   "outputs": [
    {
     "data": {
      "text/plain": [
       "SEQN         12\n",
       "RIAGENDR     18\n",
       "PAQ605       13\n",
       "BMXBMI       18\n",
       "LBXGLU       13\n",
       "DIQ010       18\n",
       "LBXGLT       11\n",
       "LBXIN         9\n",
       "age_group    14\n",
       "dtype: int64"
      ]
     },
     "execution_count": 16,
     "metadata": {},
     "output_type": "execute_result"
    }
   ],
   "source": [
    "traindf.isnull().sum()"
   ]
  },
  {
   "cell_type": "code",
   "execution_count": 20,
   "id": "bb0d031c",
   "metadata": {},
   "outputs": [
    {
     "data": {
      "text/plain": [
       "SEQN         12\n",
       "RIAGENDR     18\n",
       "PAQ605       13\n",
       "BMXBMI       18\n",
       "LBXGLU       13\n",
       "DIQ010       18\n",
       "LBXGLT       11\n",
       "LBXIN         9\n",
       "age_group    14\n",
       "dtype: int64"
      ]
     },
     "execution_count": 20,
     "metadata": {},
     "output_type": "execute_result"
    }
   ],
   "source": [
    "traindf.isna().sum()"
   ]
  },
  {
   "cell_type": "code",
   "execution_count": 10,
   "id": "6b1a62ba",
   "metadata": {},
   "outputs": [
    {
     "ename": "ValueError",
     "evalue": "Found unknown categories [nan] in column 0 during fit",
     "output_type": "error",
     "traceback": [
      "\u001b[1;31m---------------------------------------------------------------------------\u001b[0m",
      "\u001b[1;31mValueError\u001b[0m                                Traceback (most recent call last)",
      "Cell \u001b[1;32mIn[10], line 3\u001b[0m\n\u001b[0;32m      1\u001b[0m \u001b[38;5;28;01mfrom\u001b[39;00m \u001b[38;5;21;01msklearn\u001b[39;00m\u001b[38;5;21;01m.\u001b[39;00m\u001b[38;5;21;01mpreprocessing\u001b[39;00m \u001b[38;5;28;01mimport\u001b[39;00m OrdinalEncoder\n\u001b[0;32m      2\u001b[0m encoder \u001b[38;5;241m=\u001b[39m OrdinalEncoder(categories\u001b[38;5;241m=\u001b[39m[[\u001b[38;5;124m'\u001b[39m\u001b[38;5;124mAdult\u001b[39m\u001b[38;5;124m'\u001b[39m, \u001b[38;5;124m'\u001b[39m\u001b[38;5;124mSenior\u001b[39m\u001b[38;5;124m'\u001b[39m]])\n\u001b[1;32m----> 3\u001b[0m traindf[\u001b[38;5;124m'\u001b[39m\u001b[38;5;124mage_group\u001b[39m\u001b[38;5;124m'\u001b[39m] \u001b[38;5;241m=\u001b[39m encoder\u001b[38;5;241m.\u001b[39mfit_transform(traindf[[\u001b[38;5;124m'\u001b[39m\u001b[38;5;124mage_group\u001b[39m\u001b[38;5;124m'\u001b[39m]])\u001b[38;5;241m.\u001b[39mastype(\u001b[38;5;124m'\u001b[39m\u001b[38;5;124mint64\u001b[39m\u001b[38;5;124m'\u001b[39m)\n",
      "File \u001b[1;32mc:\\Users\\user\\anaconda3\\Lib\\site-packages\\sklearn\\utils\\_set_output.py:140\u001b[0m, in \u001b[0;36m_wrap_method_output.<locals>.wrapped\u001b[1;34m(self, X, *args, **kwargs)\u001b[0m\n\u001b[0;32m    138\u001b[0m \u001b[38;5;129m@wraps\u001b[39m(f)\n\u001b[0;32m    139\u001b[0m \u001b[38;5;28;01mdef\u001b[39;00m \u001b[38;5;21mwrapped\u001b[39m(\u001b[38;5;28mself\u001b[39m, X, \u001b[38;5;241m*\u001b[39margs, \u001b[38;5;241m*\u001b[39m\u001b[38;5;241m*\u001b[39mkwargs):\n\u001b[1;32m--> 140\u001b[0m     data_to_wrap \u001b[38;5;241m=\u001b[39m f(\u001b[38;5;28mself\u001b[39m, X, \u001b[38;5;241m*\u001b[39margs, \u001b[38;5;241m*\u001b[39m\u001b[38;5;241m*\u001b[39mkwargs)\n\u001b[0;32m    141\u001b[0m     \u001b[38;5;28;01mif\u001b[39;00m \u001b[38;5;28misinstance\u001b[39m(data_to_wrap, \u001b[38;5;28mtuple\u001b[39m):\n\u001b[0;32m    142\u001b[0m         \u001b[38;5;66;03m# only wrap the first output for cross decomposition\u001b[39;00m\n\u001b[0;32m    143\u001b[0m         \u001b[38;5;28;01mreturn\u001b[39;00m (\n\u001b[0;32m    144\u001b[0m             _wrap_data_with_container(method, data_to_wrap[\u001b[38;5;241m0\u001b[39m], X, \u001b[38;5;28mself\u001b[39m),\n\u001b[0;32m    145\u001b[0m             \u001b[38;5;241m*\u001b[39mdata_to_wrap[\u001b[38;5;241m1\u001b[39m:],\n\u001b[0;32m    146\u001b[0m         )\n",
      "File \u001b[1;32mc:\\Users\\user\\anaconda3\\Lib\\site-packages\\sklearn\\base.py:878\u001b[0m, in \u001b[0;36mTransformerMixin.fit_transform\u001b[1;34m(self, X, y, **fit_params)\u001b[0m\n\u001b[0;32m    874\u001b[0m \u001b[38;5;66;03m# non-optimized default implementation; override when a better\u001b[39;00m\n\u001b[0;32m    875\u001b[0m \u001b[38;5;66;03m# method is possible for a given clustering algorithm\u001b[39;00m\n\u001b[0;32m    876\u001b[0m \u001b[38;5;28;01mif\u001b[39;00m y \u001b[38;5;129;01mis\u001b[39;00m \u001b[38;5;28;01mNone\u001b[39;00m:\n\u001b[0;32m    877\u001b[0m     \u001b[38;5;66;03m# fit method of arity 1 (unsupervised transformation)\u001b[39;00m\n\u001b[1;32m--> 878\u001b[0m     \u001b[38;5;28;01mreturn\u001b[39;00m \u001b[38;5;28mself\u001b[39m\u001b[38;5;241m.\u001b[39mfit(X, \u001b[38;5;241m*\u001b[39m\u001b[38;5;241m*\u001b[39mfit_params)\u001b[38;5;241m.\u001b[39mtransform(X)\n\u001b[0;32m    879\u001b[0m \u001b[38;5;28;01melse\u001b[39;00m:\n\u001b[0;32m    880\u001b[0m     \u001b[38;5;66;03m# fit method of arity 2 (supervised transformation)\u001b[39;00m\n\u001b[0;32m    881\u001b[0m     \u001b[38;5;28;01mreturn\u001b[39;00m \u001b[38;5;28mself\u001b[39m\u001b[38;5;241m.\u001b[39mfit(X, y, \u001b[38;5;241m*\u001b[39m\u001b[38;5;241m*\u001b[39mfit_params)\u001b[38;5;241m.\u001b[39mtransform(X)\n",
      "File \u001b[1;32mc:\\Users\\user\\anaconda3\\Lib\\site-packages\\sklearn\\preprocessing\\_encoders.py:1303\u001b[0m, in \u001b[0;36mOrdinalEncoder.fit\u001b[1;34m(self, X, y)\u001b[0m\n\u001b[0;32m   1296\u001b[0m     \u001b[38;5;28;01mraise\u001b[39;00m \u001b[38;5;167;01mTypeError\u001b[39;00m(\n\u001b[0;32m   1297\u001b[0m         \u001b[38;5;124m\"\u001b[39m\u001b[38;5;124munknown_value should only be set when \u001b[39m\u001b[38;5;124m\"\u001b[39m\n\u001b[0;32m   1298\u001b[0m         \u001b[38;5;124m\"\u001b[39m\u001b[38;5;124mhandle_unknown is \u001b[39m\u001b[38;5;124m'\u001b[39m\u001b[38;5;124muse_encoded_value\u001b[39m\u001b[38;5;124m'\u001b[39m\u001b[38;5;124m, \u001b[39m\u001b[38;5;124m\"\u001b[39m\n\u001b[0;32m   1299\u001b[0m         \u001b[38;5;124mf\u001b[39m\u001b[38;5;124m\"\u001b[39m\u001b[38;5;124mgot \u001b[39m\u001b[38;5;132;01m{\u001b[39;00m\u001b[38;5;28mself\u001b[39m\u001b[38;5;241m.\u001b[39munknown_value\u001b[38;5;132;01m}\u001b[39;00m\u001b[38;5;124m.\u001b[39m\u001b[38;5;124m\"\u001b[39m\n\u001b[0;32m   1300\u001b[0m     )\n\u001b[0;32m   1302\u001b[0m \u001b[38;5;66;03m# `_fit` will only raise an error when `self.handle_unknown=\"error\"`\u001b[39;00m\n\u001b[1;32m-> 1303\u001b[0m \u001b[38;5;28mself\u001b[39m\u001b[38;5;241m.\u001b[39m_fit(X, handle_unknown\u001b[38;5;241m=\u001b[39m\u001b[38;5;28mself\u001b[39m\u001b[38;5;241m.\u001b[39mhandle_unknown, force_all_finite\u001b[38;5;241m=\u001b[39m\u001b[38;5;124m\"\u001b[39m\u001b[38;5;124mallow-nan\u001b[39m\u001b[38;5;124m\"\u001b[39m)\n\u001b[0;32m   1305\u001b[0m cardinalities \u001b[38;5;241m=\u001b[39m [\u001b[38;5;28mlen\u001b[39m(categories) \u001b[38;5;28;01mfor\u001b[39;00m categories \u001b[38;5;129;01min\u001b[39;00m \u001b[38;5;28mself\u001b[39m\u001b[38;5;241m.\u001b[39mcategories_]\n\u001b[0;32m   1307\u001b[0m \u001b[38;5;66;03m# stores the missing indices per category\u001b[39;00m\n",
      "File \u001b[1;32mc:\\Users\\user\\anaconda3\\Lib\\site-packages\\sklearn\\preprocessing\\_encoders.py:140\u001b[0m, in \u001b[0;36m_BaseEncoder._fit\u001b[1;34m(self, X, handle_unknown, force_all_finite, return_counts)\u001b[0m\n\u001b[0;32m    135\u001b[0m     \u001b[38;5;28;01mif\u001b[39;00m diff:\n\u001b[0;32m    136\u001b[0m         msg \u001b[38;5;241m=\u001b[39m (\n\u001b[0;32m    137\u001b[0m             \u001b[38;5;124m\"\u001b[39m\u001b[38;5;124mFound unknown categories \u001b[39m\u001b[38;5;132;01m{0}\u001b[39;00m\u001b[38;5;124m in column \u001b[39m\u001b[38;5;132;01m{1}\u001b[39;00m\u001b[38;5;124m\"\u001b[39m\n\u001b[0;32m    138\u001b[0m             \u001b[38;5;124m\"\u001b[39m\u001b[38;5;124m during fit\u001b[39m\u001b[38;5;124m\"\u001b[39m\u001b[38;5;241m.\u001b[39mformat(diff, i)\n\u001b[0;32m    139\u001b[0m         )\n\u001b[1;32m--> 140\u001b[0m         \u001b[38;5;28;01mraise\u001b[39;00m \u001b[38;5;167;01mValueError\u001b[39;00m(msg)\n\u001b[0;32m    141\u001b[0m \u001b[38;5;28;01mif\u001b[39;00m return_counts:\n\u001b[0;32m    142\u001b[0m     category_counts\u001b[38;5;241m.\u001b[39mappend(_get_counts(Xi, cats))\n",
      "\u001b[1;31mValueError\u001b[0m: Found unknown categories [nan] in column 0 during fit"
     ]
    }
   ],
   "source": [
    "from sklearn.preprocessing import OrdinalEncoder\n",
    "encoder = OrdinalEncoder(categories=[['Adult', 'Senior']])\n",
    "traindf['age_group'] = encoder.fit_transform(traindf[['age_group']]).astype('int64')"
   ]
  },
  {
   "cell_type": "code",
   "execution_count": 21,
   "id": "14b03b6d",
   "metadata": {},
   "outputs": [],
   "source": [
    "from sklearn.preprocessing import OrdinalEncoder"
   ]
  },
  {
   "cell_type": "code",
   "execution_count": 24,
   "id": "f740d8f4",
   "metadata": {},
   "outputs": [
    {
     "data": {
      "text/html": [
       "<div>\n",
       "<style scoped>\n",
       "    .dataframe tbody tr th:only-of-type {\n",
       "        vertical-align: middle;\n",
       "    }\n",
       "\n",
       "    .dataframe tbody tr th {\n",
       "        vertical-align: top;\n",
       "    }\n",
       "\n",
       "    .dataframe thead th {\n",
       "        text-align: right;\n",
       "    }\n",
       "</style>\n",
       "<table border=\"1\" class=\"dataframe\">\n",
       "  <thead>\n",
       "    <tr style=\"text-align: right;\">\n",
       "      <th></th>\n",
       "      <th>SEQN</th>\n",
       "      <th>RIAGENDR</th>\n",
       "      <th>PAQ605</th>\n",
       "      <th>BMXBMI</th>\n",
       "      <th>LBXGLU</th>\n",
       "      <th>DIQ010</th>\n",
       "      <th>LBXGLT</th>\n",
       "      <th>LBXIN</th>\n",
       "      <th>age_group</th>\n",
       "    </tr>\n",
       "  </thead>\n",
       "  <tbody>\n",
       "    <tr>\n",
       "      <th>208</th>\n",
       "      <td>74670.0</td>\n",
       "      <td>2.0</td>\n",
       "      <td>2.0</td>\n",
       "      <td>27.3</td>\n",
       "      <td>118.0</td>\n",
       "      <td>3.0</td>\n",
       "      <td>154.0</td>\n",
       "      <td>14.44</td>\n",
       "      <td>NaN</td>\n",
       "    </tr>\n",
       "    <tr>\n",
       "      <th>360</th>\n",
       "      <td>75492.0</td>\n",
       "      <td>1.0</td>\n",
       "      <td>2.0</td>\n",
       "      <td>29.3</td>\n",
       "      <td>109.0</td>\n",
       "      <td>2.0</td>\n",
       "      <td>90.0</td>\n",
       "      <td>9.03</td>\n",
       "      <td>NaN</td>\n",
       "    </tr>\n",
       "    <tr>\n",
       "      <th>381</th>\n",
       "      <td>75621.0</td>\n",
       "      <td>2.0</td>\n",
       "      <td>2.0</td>\n",
       "      <td>26.9</td>\n",
       "      <td>99.0</td>\n",
       "      <td>2.0</td>\n",
       "      <td>180.0</td>\n",
       "      <td>25.45</td>\n",
       "      <td>NaN</td>\n",
       "    </tr>\n",
       "    <tr>\n",
       "      <th>562</th>\n",
       "      <td>76539.0</td>\n",
       "      <td>2.0</td>\n",
       "      <td>2.0</td>\n",
       "      <td>19.5</td>\n",
       "      <td>86.0</td>\n",
       "      <td>2.0</td>\n",
       "      <td>108.0</td>\n",
       "      <td>3.78</td>\n",
       "      <td>NaN</td>\n",
       "    </tr>\n",
       "    <tr>\n",
       "      <th>684</th>\n",
       "      <td>77144.0</td>\n",
       "      <td>2.0</td>\n",
       "      <td>1.0</td>\n",
       "      <td>22.2</td>\n",
       "      <td>100.0</td>\n",
       "      <td>2.0</td>\n",
       "      <td>92.0</td>\n",
       "      <td>9.63</td>\n",
       "      <td>NaN</td>\n",
       "    </tr>\n",
       "    <tr>\n",
       "      <th>690</th>\n",
       "      <td>77178.0</td>\n",
       "      <td>2.0</td>\n",
       "      <td>2.0</td>\n",
       "      <td>28.1</td>\n",
       "      <td>166.0</td>\n",
       "      <td>2.0</td>\n",
       "      <td>320.0</td>\n",
       "      <td>8.48</td>\n",
       "      <td>NaN</td>\n",
       "    </tr>\n",
       "    <tr>\n",
       "      <th>811</th>\n",
       "      <td>77748.0</td>\n",
       "      <td>1.0</td>\n",
       "      <td>2.0</td>\n",
       "      <td>23.9</td>\n",
       "      <td>91.0</td>\n",
       "      <td>2.0</td>\n",
       "      <td>101.0</td>\n",
       "      <td>4.76</td>\n",
       "      <td>NaN</td>\n",
       "    </tr>\n",
       "    <tr>\n",
       "      <th>895</th>\n",
       "      <td>78199.0</td>\n",
       "      <td>2.0</td>\n",
       "      <td>2.0</td>\n",
       "      <td>32.5</td>\n",
       "      <td>104.0</td>\n",
       "      <td>2.0</td>\n",
       "      <td>79.0</td>\n",
       "      <td>9.65</td>\n",
       "      <td>NaN</td>\n",
       "    </tr>\n",
       "    <tr>\n",
       "      <th>1049</th>\n",
       "      <td>79060.0</td>\n",
       "      <td>2.0</td>\n",
       "      <td>2.0</td>\n",
       "      <td>26.7</td>\n",
       "      <td>80.0</td>\n",
       "      <td>2.0</td>\n",
       "      <td>80.0</td>\n",
       "      <td>9.81</td>\n",
       "      <td>NaN</td>\n",
       "    </tr>\n",
       "    <tr>\n",
       "      <th>1244</th>\n",
       "      <td>80146.0</td>\n",
       "      <td>1.0</td>\n",
       "      <td>1.0</td>\n",
       "      <td>28.2</td>\n",
       "      <td>92.0</td>\n",
       "      <td>2.0</td>\n",
       "      <td>74.0</td>\n",
       "      <td>6.29</td>\n",
       "      <td>NaN</td>\n",
       "    </tr>\n",
       "    <tr>\n",
       "      <th>1428</th>\n",
       "      <td>80999.0</td>\n",
       "      <td>1.0</td>\n",
       "      <td>1.0</td>\n",
       "      <td>22.2</td>\n",
       "      <td>85.0</td>\n",
       "      <td>2.0</td>\n",
       "      <td>106.0</td>\n",
       "      <td>11.81</td>\n",
       "      <td>NaN</td>\n",
       "    </tr>\n",
       "    <tr>\n",
       "      <th>1441</th>\n",
       "      <td>81060.0</td>\n",
       "      <td>2.0</td>\n",
       "      <td>2.0</td>\n",
       "      <td>22.5</td>\n",
       "      <td>96.0</td>\n",
       "      <td>2.0</td>\n",
       "      <td>107.0</td>\n",
       "      <td>7.62</td>\n",
       "      <td>NaN</td>\n",
       "    </tr>\n",
       "    <tr>\n",
       "      <th>1471</th>\n",
       "      <td>81196.0</td>\n",
       "      <td>2.0</td>\n",
       "      <td>2.0</td>\n",
       "      <td>19.9</td>\n",
       "      <td>94.0</td>\n",
       "      <td>2.0</td>\n",
       "      <td>132.0</td>\n",
       "      <td>3.99</td>\n",
       "      <td>NaN</td>\n",
       "    </tr>\n",
       "    <tr>\n",
       "      <th>1803</th>\n",
       "      <td>82854.0</td>\n",
       "      <td>1.0</td>\n",
       "      <td>2.0</td>\n",
       "      <td>31.9</td>\n",
       "      <td>121.0</td>\n",
       "      <td>2.0</td>\n",
       "      <td>145.0</td>\n",
       "      <td>17.30</td>\n",
       "      <td>NaN</td>\n",
       "    </tr>\n",
       "  </tbody>\n",
       "</table>\n",
       "</div>"
      ],
      "text/plain": [
       "         SEQN  RIAGENDR  PAQ605  BMXBMI  LBXGLU  DIQ010  LBXGLT  LBXIN  \\\n",
       "208   74670.0       2.0     2.0    27.3   118.0     3.0   154.0  14.44   \n",
       "360   75492.0       1.0     2.0    29.3   109.0     2.0    90.0   9.03   \n",
       "381   75621.0       2.0     2.0    26.9    99.0     2.0   180.0  25.45   \n",
       "562   76539.0       2.0     2.0    19.5    86.0     2.0   108.0   3.78   \n",
       "684   77144.0       2.0     1.0    22.2   100.0     2.0    92.0   9.63   \n",
       "690   77178.0       2.0     2.0    28.1   166.0     2.0   320.0   8.48   \n",
       "811   77748.0       1.0     2.0    23.9    91.0     2.0   101.0   4.76   \n",
       "895   78199.0       2.0     2.0    32.5   104.0     2.0    79.0   9.65   \n",
       "1049  79060.0       2.0     2.0    26.7    80.0     2.0    80.0   9.81   \n",
       "1244  80146.0       1.0     1.0    28.2    92.0     2.0    74.0   6.29   \n",
       "1428  80999.0       1.0     1.0    22.2    85.0     2.0   106.0  11.81   \n",
       "1441  81060.0       2.0     2.0    22.5    96.0     2.0   107.0   7.62   \n",
       "1471  81196.0       2.0     2.0    19.9    94.0     2.0   132.0   3.99   \n",
       "1803  82854.0       1.0     2.0    31.9   121.0     2.0   145.0  17.30   \n",
       "\n",
       "     age_group  \n",
       "208        NaN  \n",
       "360        NaN  \n",
       "381        NaN  \n",
       "562        NaN  \n",
       "684        NaN  \n",
       "690        NaN  \n",
       "811        NaN  \n",
       "895        NaN  \n",
       "1049       NaN  \n",
       "1244       NaN  \n",
       "1428       NaN  \n",
       "1441       NaN  \n",
       "1471       NaN  \n",
       "1803       NaN  "
      ]
     },
     "execution_count": 24,
     "metadata": {},
     "output_type": "execute_result"
    }
   ],
   "source": [
    "traindf[traindf['age_group'].isnull()]"
   ]
  },
  {
   "cell_type": "code",
   "execution_count": null,
   "id": "c0dfa51c",
   "metadata": {},
   "outputs": [],
   "source": [
    "from sklearn.preprocessing import OrdinalEncoder\n",
    "\n",
    "traindf_encoded = traindf.copy()\n",
    "encoder = OrdinalEncoder(categories=[['Adult', 'Senior']])\n",
    "mask = traindf_encoded['age_group'].notnull()\n",
    "traindf_encoded.loc[mask, 'age_group'] = encoder.fit_transform(\n",
    "    traindf_encoded.loc[mask, ['age_group']]\n",
    ").astype('int64')\n"
   ]
  },
  {
   "cell_type": "code",
   "execution_count": 27,
   "id": "55d95266",
   "metadata": {},
   "outputs": [],
   "source": [
    "traindf_encoded = traindf_encoded.drop(columns='SEQN')\n"
   ]
  },
  {
   "cell_type": "code",
   "execution_count": null,
   "id": "6530f1f7",
   "metadata": {},
   "outputs": [],
   "source": [
    "from sklearn.ensemble import RandomForestClassifier, RandomForestRegressor\n",
    "from sklearn.utils.multiclass import type_of_target\n",
    "\n",
    "def impute_column(df, target_col):\n",
    "    df_copy = df.copy()\n",
    "    \n",
    "    train_df = df_copy[df_copy[target_col].notnull()].dropna()\n",
    "\n",
    "    if train_df.empty:\n",
    "        print(f\"Skipping {target_col} — no complete rows to train on.\")\n",
    "        return df_copy\n",
    "\n",
    "    predict_df = df_copy[df_copy[target_col].isnull()]\n",
    "    if predict_df.empty:\n",
    "        return df_copy  \n",
    "    \n",
    "    predict_features = predict_df.drop(columns=[target_col]).dropna()\n",
    "    predict_index = predict_features.index\n",
    "\n",
    "    if predict_features.empty:\n",
    "        print(f\"Skipping {target_col} — no complete prediction rows.\")\n",
    "        return df_copy\n",
    "    common_cols = train_df.drop(columns=[target_col]).columns.intersection(predict_features.columns)\n",
    "    X_train = train_df[common_cols]\n",
    "    y_train = train_df[target_col]\n",
    "    X_pred = predict_features[common_cols]\n",
    "\n",
    "    y_train = pd.to_numeric(y_train, errors='coerce')\n",
    "    y_train = y_train.astype('float64') \n",
    "\n",
    "    target_type = type_of_target(y_train)\n",
    "    if target_type == \"binary\" or target_type == \"multiclass\":\n",
    "        y_train = y_train.astype('int64')\n",
    "        model = RandomForestClassifier()\n",
    "    elif target_type == \"continuous\":\n",
    "        model = RandomForestRegressor()\n",
    "    else:\n",
    "        raise ValueError(f\"Unsupported target type for {target_col}: {target_type}\")\n",
    "\n",
    "    \n",
    "    model.fit(X_train, y_train)\n",
    "    preds = model.predict(X_pred)\n",
    "\n",
    "    \n",
    "    df_copy.loc[predict_index, target_col] = preds\n",
    "    return df_copy\n"
   ]
  },
  {
   "cell_type": "code",
   "execution_count": 31,
   "id": "2db98966",
   "metadata": {},
   "outputs": [],
   "source": [
    "imputed_df = traindf_encoded.copy()\n",
    "cols_to_impute = ['RIAGENDR', 'PAQ605', 'BMXBMI', 'LBXGLU', 'DIQ010', 'LBXGLT', 'LBXIN', 'age_group']\n",
    "\n",
    "for col in cols_to_impute:\n",
    "    imputed_df = impute_column(imputed_df, col)\n"
   ]
  },
  {
   "cell_type": "code",
   "execution_count": 40,
   "id": "0472dc07",
   "metadata": {},
   "outputs": [
    {
     "data": {
      "text/plain": [
       "RIAGENDR     0\n",
       "PAQ605       0\n",
       "BMXBMI       0\n",
       "LBXGLU       0\n",
       "DIQ010       0\n",
       "LBXGLT       0\n",
       "LBXIN        0\n",
       "age_group    0\n",
       "dtype: int64"
      ]
     },
     "execution_count": 40,
     "metadata": {},
     "output_type": "execute_result"
    }
   ],
   "source": [
    "imputed_df.isna().sum()"
   ]
  },
  {
   "cell_type": "code",
   "execution_count": 35,
   "id": "a6c8bedb",
   "metadata": {},
   "outputs": [],
   "source": [
    "from sklearn.model_selection import StratifiedKFold, GridSearchCV\n",
    "from sklearn.metrics import classification_report, f1_score\n",
    "from xgboost import XGBClassifier"
   ]
  },
  {
   "cell_type": "code",
   "execution_count": null,
   "id": "728d012d",
   "metadata": {},
   "outputs": [],
   "source": [
    "\n",
    "X = imputed_df.drop(columns='age_group')\n",
    "y = imputed_df['age_group'].astype(int)  \n"
   ]
  },
  {
   "cell_type": "code",
   "execution_count": 42,
   "id": "2ebd72b5",
   "metadata": {},
   "outputs": [],
   "source": [
    "xgb = XGBClassifier(use_label_encoder=False, eval_metric='logloss')\n",
    "\n",
    "xgb_params = {\n",
    "    'n_estimators': [100, 200],\n",
    "    'max_depth': [3, 5],\n",
    "    'learning_rate': [0.01, 0.1],\n",
    "    'subsample': [0.8, 1.0],\n",
    "    'colsample_bytree': [0.8, 1.0],\n",
    "    'gamma': [0, 1]\n",
    "}\n"
   ]
  },
  {
   "cell_type": "code",
   "execution_count": null,
   "id": "854e60df",
   "metadata": {},
   "outputs": [
    {
     "name": "stdout",
     "output_type": "stream",
     "text": [
      "Fitting 5 folds for each of 64 candidates, totalling 320 fits\n",
      "Best Parameters:\n",
      " {'colsample_bytree': 0.8, 'gamma': 1, 'learning_rate': 0.1, 'max_depth': 5, 'n_estimators': 200, 'subsample': 0.8}\n"
     ]
    },
    {
     "name": "stderr",
     "output_type": "stream",
     "text": [
      "c:\\Users\\user\\anaconda3\\Lib\\site-packages\\xgboost\\training.py:183: UserWarning: [17:27:10] WARNING: C:\\actions-runner\\_work\\xgboost\\xgboost\\src\\learner.cc:738: \n",
      "Parameters: { \"use_label_encoder\" } are not used.\n",
      "\n",
      "  bst.update(dtrain, iteration=i, fobj=obj)\n"
     ]
    }
   ],
   "source": [
    "cv = StratifiedKFold(n_splits=5, shuffle=True, random_state=42)\n",
    "\n",
    "grid = GridSearchCV(\n",
    "    estimator=xgb,\n",
    "    param_grid=xgb_params,\n",
    "    scoring='f1',\n",
    "    n_jobs=-1,\n",
    "    cv=cv,\n",
    "    verbose=1\n",
    ")\n",
    "\n",
    "grid.fit(X, y)\n",
    "\n",
    "# best modelafter tuning\n",
    "best_model = grid.best_estimator_\n",
    "print(\"Best Parameters:\\n\", grid.best_params_)\n"
   ]
  },
  {
   "cell_type": "code",
   "execution_count": null,
   "id": "f8bd0b9b",
   "metadata": {},
   "outputs": [
    {
     "name": "stderr",
     "output_type": "stream",
     "text": [
      "c:\\Users\\user\\anaconda3\\Lib\\site-packages\\xgboost\\training.py:183: UserWarning: [17:29:09] WARNING: C:\\actions-runner\\_work\\xgboost\\xgboost\\src\\learner.cc:738: \n",
      "Parameters: { \"use_label_encoder\" } are not used.\n",
      "\n",
      "  bst.update(dtrain, iteration=i, fobj=obj)\n",
      "c:\\Users\\user\\anaconda3\\Lib\\site-packages\\xgboost\\training.py:183: UserWarning: [17:29:09] WARNING: C:\\actions-runner\\_work\\xgboost\\xgboost\\src\\learner.cc:738: \n",
      "Parameters: { \"use_label_encoder\" } are not used.\n",
      "\n",
      "  bst.update(dtrain, iteration=i, fobj=obj)\n",
      "c:\\Users\\user\\anaconda3\\Lib\\site-packages\\xgboost\\training.py:183: UserWarning: [17:29:09] WARNING: C:\\actions-runner\\_work\\xgboost\\xgboost\\src\\learner.cc:738: \n",
      "Parameters: { \"use_label_encoder\" } are not used.\n",
      "\n",
      "  bst.update(dtrain, iteration=i, fobj=obj)\n",
      "c:\\Users\\user\\anaconda3\\Lib\\site-packages\\xgboost\\training.py:183: UserWarning: [17:29:09] WARNING: C:\\actions-runner\\_work\\xgboost\\xgboost\\src\\learner.cc:738: \n",
      "Parameters: { \"use_label_encoder\" } are not used.\n",
      "\n",
      "  bst.update(dtrain, iteration=i, fobj=obj)\n",
      "c:\\Users\\user\\anaconda3\\Lib\\site-packages\\xgboost\\training.py:183: UserWarning: [17:29:09] WARNING: C:\\actions-runner\\_work\\xgboost\\xgboost\\src\\learner.cc:738: \n",
      "Parameters: { \"use_label_encoder\" } are not used.\n",
      "\n",
      "  bst.update(dtrain, iteration=i, fobj=obj)\n"
     ]
    },
    {
     "name": "stdout",
     "output_type": "stream",
     "text": [
      "\n",
      "Classification Report:\n",
      "              precision    recall  f1-score   support\n",
      "\n",
      "           0       0.86      0.96      0.91      1652\n",
      "           1       0.47      0.18      0.26       314\n",
      "\n",
      "    accuracy                           0.84      1966\n",
      "   macro avg       0.66      0.57      0.59      1966\n",
      "weighted avg       0.80      0.84      0.81      1966\n",
      "\n",
      "F1 Score: 0.2648401826484018\n"
     ]
    }
   ],
   "source": [
    "from sklearn.model_selection import cross_val_predict\n",
    "\n",
    "y_pred = cross_val_predict(best_model, X, y, cv=cv)\n",
    "\n",
    "print(\"\\nClassification Report:\")\n",
    "print(classification_report(y, y_pred))\n",
    "print(\"F1 Score:\", f1_score(y, y_pred))\n"
   ]
  },
  {
   "cell_type": "code",
   "execution_count": null,
   "id": "d54dbc95",
   "metadata": {},
   "outputs": [],
   "source": [
    "testdf = pd.read_csv('Test_Data.csv')\n",
    "testdf.drop(columns='SEQN', inplace=True)\n",
    "testdf_encoded = testdf.copy()\n",
    "for col in testdf_encoded.columns:\n",
    "    if testdf_encoded[col].isnull().sum() > 0:\n",
    "        testdf_encoded = impute_column(testdf_encoded, col)\n"
   ]
  },
  {
   "cell_type": "code",
   "execution_count": 47,
   "id": "ccc31003",
   "metadata": {},
   "outputs": [],
   "source": [
    "test_preds = best_model.predict(testdf_encoded)\n"
   ]
  },
  {
   "cell_type": "code",
   "execution_count": 48,
   "id": "6f246b1d",
   "metadata": {},
   "outputs": [],
   "source": [
    "submission = pd.DataFrame({'age_group': test_preds.astype(int)})\n",
    "submission.to_csv('submission.csv', index=False)\n"
   ]
  },
  {
   "cell_type": "code",
   "execution_count": null,
   "id": "70008041",
   "metadata": {},
   "outputs": [],
   "source": [
    "import pandas as pd\n",
    "import numpy as np\n",
    "from sklearn.model_selection import train_test_split, GridSearchCV, StratifiedKFold\n",
    "from sklearn.preprocessing import StandardScaler, OrdinalEncoder\n",
    "from sklearn.impute import SimpleImputer, KNNImputer\n",
    "from sklearn.pipeline import Pipeline\n",
    "from sklearn.metrics import classification_report, roc_auc_score\n",
    "from sklearn.ensemble import IsolationForest\n",
    "from xgboost import XGBClassifier\n",
    "\n",
    "def load_data(train_path, test_path):\n",
    "    train = pd.read_csv(train_path)\n",
    "    test = pd.read_csv(test_path)\n",
    "    return train, test\n",
    "\n",
    "\n",
    "def clean_data(df):\n",
    "    num_feats = ['PAQ605','BMXBMI','LBXGLU','LBXGLT','LBXIN']\n",
    "    df_copy = df.copy()\n",
    "    df_iso = df_copy[num_feats].copy()\n",
    "    for col in num_feats:\n",
    "        df_iso[col] = df_iso[col].fillna(df_iso[col].median())\n",
    "    mask = IsolationForest(contamination=0.02, random_state=42).fit_predict(df_iso)\n",
    "    \n",
    "\n",
    "    for col in num_feats:\n",
    "        if col in df_copy.columns:\n",
    "            low, high = df_copy[col].quantile([0.01, 0.99])\n",
    "            df_copy[col] = df_copy[col].clip(lower=low, upper=high)\n",
    "\n",
    "    return df_copy\n",
    "\n",
    "\n",
    "def make_pipeline():\n",
    "    num_feats = ['PAQ605','BMXBMI','LBXGLU','LBXGLT','LBXIN','BMI_GLU','INSULIN_RATIO','GLU_TOL_RATIO','INSULIN_GLU_RATIO','ACTIVITY_DIABETES','HIGH_GLUCOSE','HIGH_BMI','LOW_ACTIVITY','INSULIN_DEFICIENT']\n",
    "    cat_feats = ['RIAGENDR','DIQ010']\n",
    "\n",
    "    num_pipe = Pipeline([\n",
    "        ('imputer', KNNImputer(n_neighbors=5)),\n",
    "        ('scaler', StandardScaler())\n",
    "    ])\n",
    "    cat_pipe = Pipeline([\n",
    "        ('imputer', SimpleImputer(strategy='most_frequent')),\n",
    "        ('encoder', OrdinalEncoder(handle_unknown='use_encoded_value', unknown_value=-1))\n",
    "    ])\n",
    "\n",
    "    from sklearn.compose import ColumnTransformer\n",
    "    preprocessor = ColumnTransformer([\n",
    "        ('num', num_pipe, num_feats),\n",
    "        ('cat', cat_pipe, cat_feats)\n",
    "    ])\n",
    "\n",
    "    def preprocess(X, fit=True):\n",
    "        return preprocessor.fit_transform(X) if fit else preprocessor.transform(X)\n",
    "\n",
    "    return preprocessor, preprocess\n",
    "\n",
    "\n",
    "def train_and_evaluate(X, y, model, params=None):\n",
    "    if params:\n",
    "        grid = GridSearchCV(model, params, cv=5, scoring='roc_auc', n_jobs=-1, error_score='raise')\n",
    "        grid.fit(X, y)\n",
    "        best = grid.best_estimator_\n",
    "    else:\n",
    "        best = model\n",
    "        from sklearn.utils.class_weight import compute_sample_weight\n",
    "        sample_weights = compute_sample_weight(class_weight='balanced', y=y)\n",
    "        best.fit(X, y, sample_weight=sample_weights)\n",
    "    y_pred = best.predict(X)\n",
    "    print(classification_report(y, y_pred))\n",
    "    print(\"ROC AUC:\", roc_auc_score(y, best.predict_proba(X)[:,1]))\n",
    "    return best\n",
    "\n",
    "def cross_val_predict_average(model, X, y, X_test, folds=5):\n",
    "    skf = StratifiedKFold(n_splits=folds, shuffle=True, random_state=42)\n",
    "    test_preds = np.zeros((X_test.shape[0],))\n",
    "    for train_idx, _ in skf.split(X, y):\n",
    "        X_tr, y_tr = X[train_idx], y[train_idx]\n",
    "        model_ = XGBClassifier(use_label_encoder=False, eval_metric='logloss', random_state=42)\n",
    "        model_.fit(X_tr, y_tr)\n",
    "        test_preds += model_.predict_proba(X_test)[:,1] / folds\n",
    "    return test_preds\n",
    "\n",
    "if __name__ == '__main__':\n",
    "    train_df, test_df = load_data('train.csv', 'test.csv')\n",
    "\n",
    "    \n",
    "    for df in [train_df, test_df]: \n",
    "        df['BMI_GLU'] = df['BMXBMI'] * df['LBXGLU']\n",
    "        df['INSULIN_RATIO'] = df['LBXIN'] / (df['LBXGLU'] + 1)\n",
    "        df['GLU_TOL_RATIO'] = df['LBXGLU'] / (df['LBXGLT'] + 1)\n",
    "        df['INSULIN_GLU_RATIO'] = df['LBXIN'] / (df['LBXGLU'] + 1)\n",
    "        df['ACTIVITY_DIABETES'] = df['PAQ605'].fillna(0) * df['DIQ010'].fillna(0)\n",
    "        df['HIGH_GLUCOSE'] = (df['LBXGLU'] > 140).astype(int)\n",
    "        df['HIGH_BMI'] = (df['BMXBMI'] > 30).astype(int)\n",
    "        df['LOW_ACTIVITY'] = (df['PAQ605'] == 2).astype(int)\n",
    "        df['INSULIN_DEFICIENT'] = (df['LBXIN'] < 5).astype(int)\n",
    "\n",
    "    train_df = clean_data(train_df)\n",
    "    test_df = clean_data(test_df)  \n",
    "\n",
    "    train_df = train_df.dropna(subset=['age_group'])\n",
    "    train_df['age_group'] = train_df['age_group'].map({'Adult': 0, 'Senior': 1})\n",
    "\n",
    "    X_train_full = train_df.drop(['SEQN', 'age_group'], axis=1)\n",
    "    y_train_full = train_df['age_group'].astype(int)\n",
    "    X_test_feat = test_df.drop(['SEQN'], axis=1)\n",
    "\n",
    "    preprocessor, preprocess_fn = make_pipeline()\n",
    "    X_train_trans = preprocess_fn(X_train_full, fit=True)\n",
    "    X_test_trans = preprocess_fn(X_test_feat, fit=False)\n",
    "\n",
    "    X_train_trans = np.nan_to_num(X_train_trans)\n",
    "    X_test_trans = np.nan_to_num(X_test_trans)\n",
    "\n",
    "    X_tr, X_val, y_tr, y_val = train_test_split(\n",
    "        X_train_trans, y_train_full, test_size=0.2, stratify=y_train_full, random_state=42\n",
    "    )\n",
    "\n",
    "    xgb = XGBClassifier(use_label_encoder=False, eval_metric='logloss', random_state=42)\n",
    "    xgb_params = {\n",
    "        'n_estimators': [100, 200, 300, 500],\n",
    "        'max_depth': [3, 5, 7, 9],\n",
    "        'learning_rate': [0.01, 0.05, 0.1],\n",
    "        'subsample': [0.6, 0.8, 1.0],\n",
    "        'colsample_bytree': [0.6, 0.8, 1.0]\n",
    "    }\n",
    "\n",
    "    print(\"Training XGBoost...\")\n",
    "    best_model = train_and_evaluate(X_tr, y_tr, xgb, xgb_params)\n",
    "\n",
    "    print(\"Validation Metrics:\")\n",
    "    y_val_pred = best_model.predict(X_val)\n",
    "    print(classification_report(y_val, y_val_pred))\n",
    "    print(\"ROC AUC:\", roc_auc_score(y_val, best_model.predict_proba(X_val)[:,1]))\n",
    "\n",
    "    print(\"Generating ensemble prediction on test set...\")\n",
    "    test_probs = cross_val_predict_average(best_model, X_train_trans, y_train_full.to_numpy(), X_test_trans, folds=5)\n",
    "    test_preds = (test_probs > 0.5).astype(int)\n",
    "\n",
    "    submission = pd.DataFrame({\n",
    "        'age_group': test_preds\n",
    "    })\n",
    "    submission.to_csv('submission3.csv', index=False)\n",
    "    print(\"submission.csv created\")\n"
   ]
  }
 ],
 "metadata": {
  "kernelspec": {
   "display_name": "base",
   "language": "python",
   "name": "python3"
  },
  "language_info": {
   "codemirror_mode": {
    "name": "ipython",
    "version": 3
   },
   "file_extension": ".py",
   "mimetype": "text/x-python",
   "name": "python",
   "nbconvert_exporter": "python",
   "pygments_lexer": "ipython3",
   "version": "3.11.7"
  }
 },
 "nbformat": 4,
 "nbformat_minor": 5
}
